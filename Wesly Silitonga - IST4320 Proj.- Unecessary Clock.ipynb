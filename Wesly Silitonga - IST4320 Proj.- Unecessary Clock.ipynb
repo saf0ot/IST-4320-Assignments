{
 "cells": [
  {
   "cell_type": "code",
   "execution_count": null,
   "id": "090261ef-71d0-4e72-b7f5-a0dd0233bd8f",
   "metadata": {},
   "outputs": [],
   "source": [
    "# Wesly Silitonga\n",
    "# IST 4320\n",
    "# More-than-necessary Clock!"
   ]
  },
  {
   "cell_type": "code",
   "execution_count": 3,
   "id": "5a6bee82-086f-48c4-bc27-2a8a48f48685",
   "metadata": {
    "tags": []
   },
   "outputs": [],
   "source": [
    "import tkinter as tk\n",
    "import datetime # Time module\n",
    "\n",
    "# Create the \"App\"\n",
    "body = tk.Tk()\n",
    "\n",
    "# We need a title...\n",
    "title = body.title(\"Wes' (Not-so) Accurate Clock!\")\n",
    "\n",
    "# We also need some information...\n",
    "info = tk.Label(body, text=\"Greetings! This is the Clock's Format:\")\n",
    "info.pack()\n",
    "info1 = tk.Label(body, text=\"Hours : Minutes : Seconds : Miliseconds-Microseconds\")\n",
    "info1.pack()\n",
    "\n",
    "def clock():\n",
    "    current_time = datetime.datetime.now()\n",
    "    \n",
    "    # Format the time, make it redundant!\n",
    "    format_time = current_time.strftime(\"%H:%M:%S.%f\") # Hours:Minutes:Seconds:Microseconds\n",
    "    \n",
    "    # Update the time on tkinter\n",
    "    time_label.config(text=format_time)\n",
    "    \n",
    "    # Update the Label Text\n",
    "    body.after(1, clock) # You can change the number to have it update at a certain freq!\n",
    "    \n",
    "#Create the time information!\n",
    "time_label = tk.Label(body, font=(\"Courier New\", 12, \"bold\"))\n",
    "time_label.pack(padx=5, pady=5) \n",
    "\n",
    "# Run the module!\n",
    "clock()\n",
    "\n",
    "body.mainloop()"
   ]
  }
 ],
 "metadata": {
  "kernelspec": {
   "display_name": "Python 3 (ipykernel)",
   "language": "python",
   "name": "python3"
  },
  "language_info": {
   "codemirror_mode": {
    "name": "ipython",
    "version": 3
   },
   "file_extension": ".py",
   "mimetype": "text/x-python",
   "name": "python",
   "nbconvert_exporter": "python",
   "pygments_lexer": "ipython3",
   "version": "3.11.4"
  }
 },
 "nbformat": 4,
 "nbformat_minor": 5
}
